{
 "cells": [
  {
   "cell_type": "markdown",
   "id": "73f53a56",
   "metadata": {},
   "source": [
    "**CHURN MODELLING IN BANKING**\n",
    "\n",
    "As we know, it is much more expensive to sign in a new client than keeping an existing one. It is advantageous for banks to know what leads a client towards the decision to leave the company. Churn prevention allows companies to develop loyalty programs and retention campaigns to keep as many customers as possible."
   ]
  },
  {
   "cell_type": "code",
   "execution_count": 125,
   "id": "dd7d1de1",
   "metadata": {},
   "outputs": [],
   "source": [
    "#Importing Necessary Libraries\n",
    "import pandas as pd\n",
    "import numpy as np\n",
    "import seaborn as sns\n",
    "import matplotlib.pyplot as plt\n",
    "%matplotlib inline\n",
    "import plotly.offline as po\n",
    "import plotly.graph_objs as go\n",
    "sns.set_style(\"darkgrid\")"
   ]
  },
  {
   "cell_type": "code",
   "execution_count": 126,
   "id": "4742d2f8",
   "metadata": {},
   "outputs": [
    {
     "data": {
      "text/html": [
       "<div><div id=8989741a-a039-4424-818e-4d24783c37ff style=\"display:none; background-color:#9D6CFF; color:white; width:200px; height:30px; padding-left:5px; border-radius:4px; flex-direction:row; justify-content:space-around; align-items:center;\" onmouseover=\"this.style.backgroundColor='#BA9BF8'\" onmouseout=\"this.style.backgroundColor='#9D6CFF'\" onclick=\"window.commands?.execute('create-mitosheet-from-dataframe-output');\">See Full Dataframe in Mito</div> <script> if (window.commands?.hasCommand('create-mitosheet-from-dataframe-output')) document.getElementById('8989741a-a039-4424-818e-4d24783c37ff').style.display = 'flex' </script> <table border=\"1\" class=\"dataframe\">\n",
       "  <thead>\n",
       "    <tr style=\"text-align: right;\">\n",
       "      <th></th>\n",
       "      <th>RowNumber</th>\n",
       "      <th>CustomerId</th>\n",
       "      <th>Surname</th>\n",
       "      <th>CreditScore</th>\n",
       "      <th>Geography</th>\n",
       "      <th>Gender</th>\n",
       "      <th>Age</th>\n",
       "      <th>Tenure</th>\n",
       "      <th>Balance</th>\n",
       "      <th>NumOfProducts</th>\n",
       "      <th>HasCrCard</th>\n",
       "      <th>IsActiveMember</th>\n",
       "      <th>EstimatedSalary</th>\n",
       "      <th>Exited</th>\n",
       "    </tr>\n",
       "  </thead>\n",
       "  <tbody>\n",
       "    <tr>\n",
       "      <th>0</th>\n",
       "      <td>1</td>\n",
       "      <td>15634602</td>\n",
       "      <td>Hargrave</td>\n",
       "      <td>619</td>\n",
       "      <td>France</td>\n",
       "      <td>Female</td>\n",
       "      <td>42</td>\n",
       "      <td>2</td>\n",
       "      <td>0.00</td>\n",
       "      <td>1</td>\n",
       "      <td>1</td>\n",
       "      <td>1</td>\n",
       "      <td>101348.88</td>\n",
       "      <td>1</td>\n",
       "    </tr>\n",
       "    <tr>\n",
       "      <th>1</th>\n",
       "      <td>2</td>\n",
       "      <td>15647311</td>\n",
       "      <td>Hill</td>\n",
       "      <td>608</td>\n",
       "      <td>Spain</td>\n",
       "      <td>Female</td>\n",
       "      <td>41</td>\n",
       "      <td>1</td>\n",
       "      <td>83807.86</td>\n",
       "      <td>1</td>\n",
       "      <td>0</td>\n",
       "      <td>1</td>\n",
       "      <td>112542.58</td>\n",
       "      <td>0</td>\n",
       "    </tr>\n",
       "    <tr>\n",
       "      <th>2</th>\n",
       "      <td>3</td>\n",
       "      <td>15619304</td>\n",
       "      <td>Onio</td>\n",
       "      <td>502</td>\n",
       "      <td>France</td>\n",
       "      <td>Female</td>\n",
       "      <td>42</td>\n",
       "      <td>8</td>\n",
       "      <td>159660.80</td>\n",
       "      <td>3</td>\n",
       "      <td>1</td>\n",
       "      <td>0</td>\n",
       "      <td>113931.57</td>\n",
       "      <td>1</td>\n",
       "    </tr>\n",
       "    <tr>\n",
       "      <th>3</th>\n",
       "      <td>4</td>\n",
       "      <td>15701354</td>\n",
       "      <td>Boni</td>\n",
       "      <td>699</td>\n",
       "      <td>France</td>\n",
       "      <td>Female</td>\n",
       "      <td>39</td>\n",
       "      <td>1</td>\n",
       "      <td>0.00</td>\n",
       "      <td>2</td>\n",
       "      <td>0</td>\n",
       "      <td>0</td>\n",
       "      <td>93826.63</td>\n",
       "      <td>0</td>\n",
       "    </tr>\n",
       "    <tr>\n",
       "      <th>4</th>\n",
       "      <td>5</td>\n",
       "      <td>15737888</td>\n",
       "      <td>Mitchell</td>\n",
       "      <td>850</td>\n",
       "      <td>Spain</td>\n",
       "      <td>Female</td>\n",
       "      <td>43</td>\n",
       "      <td>2</td>\n",
       "      <td>125510.82</td>\n",
       "      <td>1</td>\n",
       "      <td>1</td>\n",
       "      <td>1</td>\n",
       "      <td>79084.10</td>\n",
       "      <td>0</td>\n",
       "    </tr>\n",
       "  </tbody>\n",
       "</table></div>"
      ],
      "text/plain": [
       "   RowNumber  CustomerId   Surname  CreditScore Geography  Gender  Age  \\\n",
       "0          1    15634602  Hargrave          619    France  Female   42   \n",
       "1          2    15647311      Hill          608     Spain  Female   41   \n",
       "2          3    15619304      Onio          502    France  Female   42   \n",
       "3          4    15701354      Boni          699    France  Female   39   \n",
       "4          5    15737888  Mitchell          850     Spain  Female   43   \n",
       "\n",
       "   Tenure    Balance  NumOfProducts  HasCrCard  IsActiveMember  \\\n",
       "0       2       0.00              1          1               1   \n",
       "1       1   83807.86              1          0               1   \n",
       "2       8  159660.80              3          1               0   \n",
       "3       1       0.00              2          0               0   \n",
       "4       2  125510.82              1          1               1   \n",
       "\n",
       "   EstimatedSalary  Exited  \n",
       "0        101348.88       1  \n",
       "1        112542.58       0  \n",
       "2        113931.57       1  \n",
       "3         93826.63       0  \n",
       "4         79084.10       0  "
      ]
     },
     "execution_count": 126,
     "metadata": {},
     "output_type": "execute_result"
    }
   ],
   "source": [
    "#Load Data Set.\n",
    "\n",
    "churn_df = pd.read_csv(\"churn.csv\")\n",
    "churn_df.head()"
   ]
  },
  {
   "cell_type": "markdown",
   "id": "165d5800",
   "metadata": {},
   "source": [
    "### General Information about the Dataset"
   ]
  },
  {
   "cell_type": "code",
   "execution_count": 127,
   "id": "35e90394",
   "metadata": {},
   "outputs": [
    {
     "name": "stdout",
     "output_type": "stream",
     "text": [
      "<class 'pandas.core.frame.DataFrame'>\n",
      "RangeIndex: 10000 entries, 0 to 9999\n",
      "Data columns (total 14 columns):\n",
      " #   Column           Non-Null Count  Dtype  \n",
      "---  ------           --------------  -----  \n",
      " 0   RowNumber        10000 non-null  int64  \n",
      " 1   CustomerId       10000 non-null  int64  \n",
      " 2   Surname          10000 non-null  object \n",
      " 3   CreditScore      10000 non-null  int64  \n",
      " 4   Geography        10000 non-null  object \n",
      " 5   Gender           10000 non-null  object \n",
      " 6   Age              10000 non-null  int64  \n",
      " 7   Tenure           10000 non-null  int64  \n",
      " 8   Balance          10000 non-null  float64\n",
      " 9   NumOfProducts    10000 non-null  int64  \n",
      " 10  HasCrCard        10000 non-null  int64  \n",
      " 11  IsActiveMember   10000 non-null  int64  \n",
      " 12  EstimatedSalary  10000 non-null  float64\n",
      " 13  Exited           10000 non-null  int64  \n",
      "dtypes: float64(2), int64(9), object(3)\n",
      "memory usage: 1.1+ MB\n"
     ]
    }
   ],
   "source": [
    "#Check the format of the Data.\n",
    "churn_df.info()"
   ]
  },
  {
   "cell_type": "code",
   "execution_count": 128,
   "id": "d38f9bd1",
   "metadata": {},
   "outputs": [
    {
     "data": {
      "text/plain": [
       "RowNumber          0\n",
       "CustomerId         0\n",
       "Surname            0\n",
       "CreditScore        0\n",
       "Geography          0\n",
       "Gender             0\n",
       "Age                0\n",
       "Tenure             0\n",
       "Balance            0\n",
       "NumOfProducts      0\n",
       "HasCrCard          0\n",
       "IsActiveMember     0\n",
       "EstimatedSalary    0\n",
       "Exited             0\n",
       "dtype: int64"
      ]
     },
     "execution_count": 128,
     "metadata": {},
     "output_type": "execute_result"
    }
   ],
   "source": [
    "#Check For Missing Values\n",
    "churn_df.isnull().sum()"
   ]
  },
  {
   "cell_type": "code",
   "execution_count": 129,
   "id": "a323b8fb",
   "metadata": {},
   "outputs": [
    {
     "data": {
      "text/html": [
       "<div><div id=60f7d4ec-25a5-48b6-958c-a52f3b1eb51f style=\"display:none; background-color:#9D6CFF; color:white; width:200px; height:30px; padding-left:5px; border-radius:4px; flex-direction:row; justify-content:space-around; align-items:center;\" onmouseover=\"this.style.backgroundColor='#BA9BF8'\" onmouseout=\"this.style.backgroundColor='#9D6CFF'\" onclick=\"window.commands?.execute('create-mitosheet-from-dataframe-output');\">See Full Dataframe in Mito</div> <script> if (window.commands?.hasCommand('create-mitosheet-from-dataframe-output')) document.getElementById('60f7d4ec-25a5-48b6-958c-a52f3b1eb51f').style.display = 'flex' </script> <table border=\"1\" class=\"dataframe\">\n",
       "  <thead>\n",
       "    <tr style=\"text-align: right;\">\n",
       "      <th></th>\n",
       "      <th>Geography</th>\n",
       "      <th>Gender</th>\n",
       "    </tr>\n",
       "  </thead>\n",
       "  <tbody>\n",
       "    <tr>\n",
       "      <th>count</th>\n",
       "      <td>10000</td>\n",
       "      <td>10000</td>\n",
       "    </tr>\n",
       "    <tr>\n",
       "      <th>unique</th>\n",
       "      <td>3</td>\n",
       "      <td>2</td>\n",
       "    </tr>\n",
       "    <tr>\n",
       "      <th>top</th>\n",
       "      <td>France</td>\n",
       "      <td>Male</td>\n",
       "    </tr>\n",
       "    <tr>\n",
       "      <th>freq</th>\n",
       "      <td>5014</td>\n",
       "      <td>5457</td>\n",
       "    </tr>\n",
       "  </tbody>\n",
       "</table></div>"
      ],
      "text/plain": [
       "       Geography Gender\n",
       "count      10000  10000\n",
       "unique         3      2\n",
       "top       France   Male\n",
       "freq        5014   5457"
      ]
     },
     "execution_count": 129,
     "metadata": {},
     "output_type": "execute_result"
    }
   ],
   "source": [
    "#Descriptive Statistics For the Categorical Fields\n",
    "churn_df[['Geography','Gender']].describe()"
   ]
  },
  {
   "cell_type": "code",
   "execution_count": 130,
   "id": "799c2dba",
   "metadata": {},
   "outputs": [
    {
     "data": {
      "text/html": [
       "<div><div id=5e8da30e-c939-4455-a51f-c08cc0bc1d73 style=\"display:none; background-color:#9D6CFF; color:white; width:200px; height:30px; padding-left:5px; border-radius:4px; flex-direction:row; justify-content:space-around; align-items:center;\" onmouseover=\"this.style.backgroundColor='#BA9BF8'\" onmouseout=\"this.style.backgroundColor='#9D6CFF'\" onclick=\"window.commands?.execute('create-mitosheet-from-dataframe-output');\">See Full Dataframe in Mito</div> <script> if (window.commands?.hasCommand('create-mitosheet-from-dataframe-output')) document.getElementById('5e8da30e-c939-4455-a51f-c08cc0bc1d73').style.display = 'flex' </script> <table border=\"1\" class=\"dataframe\">\n",
       "  <thead>\n",
       "    <tr style=\"text-align: right;\">\n",
       "      <th></th>\n",
       "      <th>CreditScore</th>\n",
       "      <th>Age</th>\n",
       "      <th>Tenure</th>\n",
       "      <th>Balance</th>\n",
       "      <th>NumOfProducts</th>\n",
       "      <th>HasCrCard</th>\n",
       "      <th>IsActiveMember</th>\n",
       "      <th>EstimatedSalary</th>\n",
       "      <th>Exited</th>\n",
       "    </tr>\n",
       "  </thead>\n",
       "  <tbody>\n",
       "    <tr>\n",
       "      <th>count</th>\n",
       "      <td>10000.000000</td>\n",
       "      <td>10000.000000</td>\n",
       "      <td>10000.000000</td>\n",
       "      <td>10000.000000</td>\n",
       "      <td>10000.000000</td>\n",
       "      <td>10000.00000</td>\n",
       "      <td>10000.000000</td>\n",
       "      <td>10000.000000</td>\n",
       "      <td>10000.000000</td>\n",
       "    </tr>\n",
       "    <tr>\n",
       "      <th>mean</th>\n",
       "      <td>650.528800</td>\n",
       "      <td>38.921800</td>\n",
       "      <td>5.012800</td>\n",
       "      <td>76485.889288</td>\n",
       "      <td>1.530200</td>\n",
       "      <td>0.70550</td>\n",
       "      <td>0.515100</td>\n",
       "      <td>100090.239881</td>\n",
       "      <td>0.203700</td>\n",
       "    </tr>\n",
       "    <tr>\n",
       "      <th>std</th>\n",
       "      <td>96.653299</td>\n",
       "      <td>10.487806</td>\n",
       "      <td>2.892174</td>\n",
       "      <td>62397.405202</td>\n",
       "      <td>0.581654</td>\n",
       "      <td>0.45584</td>\n",
       "      <td>0.499797</td>\n",
       "      <td>57510.492818</td>\n",
       "      <td>0.402769</td>\n",
       "    </tr>\n",
       "    <tr>\n",
       "      <th>min</th>\n",
       "      <td>350.000000</td>\n",
       "      <td>18.000000</td>\n",
       "      <td>0.000000</td>\n",
       "      <td>0.000000</td>\n",
       "      <td>1.000000</td>\n",
       "      <td>0.00000</td>\n",
       "      <td>0.000000</td>\n",
       "      <td>11.580000</td>\n",
       "      <td>0.000000</td>\n",
       "    </tr>\n",
       "    <tr>\n",
       "      <th>25%</th>\n",
       "      <td>584.000000</td>\n",
       "      <td>32.000000</td>\n",
       "      <td>3.000000</td>\n",
       "      <td>0.000000</td>\n",
       "      <td>1.000000</td>\n",
       "      <td>0.00000</td>\n",
       "      <td>0.000000</td>\n",
       "      <td>51002.110000</td>\n",
       "      <td>0.000000</td>\n",
       "    </tr>\n",
       "    <tr>\n",
       "      <th>50%</th>\n",
       "      <td>652.000000</td>\n",
       "      <td>37.000000</td>\n",
       "      <td>5.000000</td>\n",
       "      <td>97198.540000</td>\n",
       "      <td>1.000000</td>\n",
       "      <td>1.00000</td>\n",
       "      <td>1.000000</td>\n",
       "      <td>100193.915000</td>\n",
       "      <td>0.000000</td>\n",
       "    </tr>\n",
       "    <tr>\n",
       "      <th>75%</th>\n",
       "      <td>718.000000</td>\n",
       "      <td>44.000000</td>\n",
       "      <td>7.000000</td>\n",
       "      <td>127644.240000</td>\n",
       "      <td>2.000000</td>\n",
       "      <td>1.00000</td>\n",
       "      <td>1.000000</td>\n",
       "      <td>149388.247500</td>\n",
       "      <td>0.000000</td>\n",
       "    </tr>\n",
       "    <tr>\n",
       "      <th>max</th>\n",
       "      <td>850.000000</td>\n",
       "      <td>92.000000</td>\n",
       "      <td>10.000000</td>\n",
       "      <td>250898.090000</td>\n",
       "      <td>4.000000</td>\n",
       "      <td>1.00000</td>\n",
       "      <td>1.000000</td>\n",
       "      <td>199992.480000</td>\n",
       "      <td>1.000000</td>\n",
       "    </tr>\n",
       "  </tbody>\n",
       "</table></div>"
      ],
      "text/plain": [
       "        CreditScore           Age        Tenure        Balance  NumOfProducts  \\\n",
       "count  10000.000000  10000.000000  10000.000000   10000.000000   10000.000000   \n",
       "mean     650.528800     38.921800      5.012800   76485.889288       1.530200   \n",
       "std       96.653299     10.487806      2.892174   62397.405202       0.581654   \n",
       "min      350.000000     18.000000      0.000000       0.000000       1.000000   \n",
       "25%      584.000000     32.000000      3.000000       0.000000       1.000000   \n",
       "50%      652.000000     37.000000      5.000000   97198.540000       1.000000   \n",
       "75%      718.000000     44.000000      7.000000  127644.240000       2.000000   \n",
       "max      850.000000     92.000000     10.000000  250898.090000       4.000000   \n",
       "\n",
       "         HasCrCard  IsActiveMember  EstimatedSalary        Exited  \n",
       "count  10000.00000    10000.000000     10000.000000  10000.000000  \n",
       "mean       0.70550        0.515100    100090.239881      0.203700  \n",
       "std        0.45584        0.499797     57510.492818      0.402769  \n",
       "min        0.00000        0.000000        11.580000      0.000000  \n",
       "25%        0.00000        0.000000     51002.110000      0.000000  \n",
       "50%        1.00000        1.000000    100193.915000      0.000000  \n",
       "75%        1.00000        1.000000    149388.247500      0.000000  \n",
       "max        1.00000        1.000000    199992.480000      1.000000  "
      ]
     },
     "execution_count": 130,
     "metadata": {},
     "output_type": "execute_result"
    }
   ],
   "source": [
    "#Descriptive Statistics for the dataset.\n",
    "churn_df.drop(['Geography','Gender',\"RowNumber\",\"CustomerId\"],axis=1).describe()"
   ]
  },
  {
   "cell_type": "markdown",
   "id": "c1fd8ab4",
   "metadata": {},
   "source": [
    "**Summary Highlights:**\n",
    "\n",
    "1. The bank has 10,000 customers\n",
    "2. The dataset has 14 features, but RowNumber, CustomerID and Surname are removed.\n",
    "3. There are no duplicate and no null value from the dataset\n",
    "4. Most of the customers are located in France\n",
    "5. Most of the customer's credit score is around 650 which considered as fair\n",
    "6. Customer's age are vary, ranging from 18 to 92\n",
    "7. The dataset only has tenure up to 10 years"
   ]
  },
  {
   "cell_type": "markdown",
   "id": "3920f224",
   "metadata": {},
   "source": [
    "## Exploratory Data Analysis"
   ]
  },
  {
   "cell_type": "code",
   "execution_count": 131,
   "id": "55392b0e",
   "metadata": {},
   "outputs": [
    {
     "data": {
      "image/png": "[encoded data removed]",
      "text/plain": [
       "<Figure size 576x576 with 1 Axes>"
      ]
     },
     "metadata": {},
     "output_type": "display_data"
    }
   ],
   "source": [
    "#Create a list that contains the number of exited customer \n",
    "ExitedList = [churn_df.Exited[churn_df['Exited']==1].count(), churn_df.Exited[churn_df['Exited']==0].count()]\n",
    "\n",
    "#set figure size and title\n",
    "plt.subplots(figsize=(8, 8))\n",
    "plt.title('Fig:1   Proportion of Customer Churn', size = 16)\n",
    "\n",
    "#display the proportion of Customer Churn\n",
    "plt.pie(ExitedList,labels = ['Exited', 'Retained'], autopct='%.2f%%',\n",
    "        explode = (0 ,0.10),textprops={'color':\"#111\",'size': \"x-large\"}, colors = ['lightseagreen','darkgrey'])\n",
    "plt.legend(labels = ['Exited', 'Retained'], loc = \"best\",prop={'size': 11})\n",
    "plt.show()\n"
   ]
  },
  {
   "cell_type": "code",
   "execution_count": 132,
   "id": "cd45039e",
   "metadata": {},
   "outputs": [
    {
     "data": {
      "image/png": "[encoded data removed]",
      "text/plain": [
       "<Figure size 648x576 with 1 Axes>"
      ]
     },
     "metadata": {},
     "output_type": "display_data"
    }
   ],
   "source": [
    "# plot data\n",
    "import matplotlib \n",
    "matplotlib.rc('xtick', labelsize=12) \n",
    "matplotlib.rc('ytick', labelsize=12)\n",
    "fig, ax = plt.subplots(figsize=(9, 8))\n",
    "plt.title('Fig:2  Churn Rate By Gender', size = 16)\n",
    "g = sns.barplot(x=\"Gender\",y=\"Exited\",data=churn_df) \n",
    "# annotate\n",
    "g.bar_label(ax.containers[0], label_type='center',fmt='%g',fontsize=12, color = \"w\")\n",
    "\n",
    "# pad the spacing between the number and the edge of the figure\n",
    "g.margins(y=0.1)"
   ]
  },
  {
   "cell_type": "code",
   "execution_count": 133,
   "id": "839245b9",
   "metadata": {},
   "outputs": [
    {
     "data": {
      "image/png": "[encoded data removed]",
      "text/plain": [
       "<Figure size 792x576 with 1 Axes>"
      ]
     },
     "metadata": {},
     "output_type": "display_data"
    }
   ],
   "source": [
    "# plot data\n",
    "import matplotlib \n",
    "matplotlib.rc('xtick', labelsize=12) \n",
    "matplotlib.rc('ytick', labelsize=12)\n",
    "fig, ax = plt.subplots(figsize=(11, 8))\n",
    "plt.title('Fig:3  Churn Rate By Country', size = 16)\n",
    "g = sns.barplot(x=\"Geography\",y=\"Exited\",data=churn_df) \n",
    "# annotate\n",
    "g.bar_label(ax.containers[0], label_type='center',fmt='%g',fontsize=12, color = \"w\")\n",
    "\n",
    "# pad the spacing between the number and the edge of the figure\n",
    "g.margins(y=0.1)\n"
   ]
  },
  {
   "cell_type": "markdown",
   "id": "9b760708",
   "metadata": {},
   "source": [
    "**Summary highlights:**\n",
    "1. 20.37 percent of customers left/exited the bank. **(Fig: 1)**\n",
    "\n",
    "2. Despite the fact that there are more males than females in the summary statistics, females exited the bank at a rate of 25.07 %. **(Fig: 2)**\n",
    "\n",
    "3. Despite having more customers in France, 30% of customers in Germany leave the bank. **(Fig: 3)**"
   ]
  },
  {
   "cell_type": "code",
   "execution_count": 134,
   "id": "576239d1",
   "metadata": {},
   "outputs": [
    {
     "data": {
      "image/png": "[encoded data removed]",
      "text/plain": [
       "<Figure size 648x576 with 1 Axes>"
      ]
     },
     "metadata": {},
     "output_type": "display_data"
    }
   ],
   "source": [
    "# Visualize Relation between Tenure & Churn rate\n",
    "plot_by_tenure = churn_df.groupby('Tenure').Exited.mean().reset_index()\n",
    "matplotlib.rc('xtick', labelsize=12) \n",
    "matplotlib.rc('ytick', labelsize=12)\n",
    "fig, ax = plt.subplots(figsize=(9, 8))\n",
    "plt.title('Fig: 4  Relation between Tenure & Churn rate', size = 16)\n",
    "g = sns.scatterplot(x=plot_by_tenure[\"Tenure\"],y=plot_by_tenure[\"Exited\"])\n",
    "\n",
    "# pad the spacing between the number and the edge of the figure\n",
    "g.margins(y=0.1)"
   ]
  },
  {
   "cell_type": "code",
   "execution_count": 135,
   "id": "bfadb0aa",
   "metadata": {},
   "outputs": [
    {
     "data": {
      "image/png": "[encoded data removed]",
      "text/plain": [
       "<Figure size 648x576 with 1 Axes>"
      ]
     },
     "metadata": {},
     "output_type": "display_data"
    }
   ],
   "source": [
    "#Churn Rate by Age\n",
    "plot_by_age = churn_df.groupby('Age').Exited.mean().reset_index()\n",
    "matplotlib.rc('xtick', labelsize=12) \n",
    "matplotlib.rc('ytick', labelsize=12)\n",
    "fig, ax = plt.subplots(figsize=(9, 8))\n",
    "plt.title(' Fig 5: Churn Rate by Age', size = 16)\n",
    "g = sns.scatterplot(x=plot_by_age[\"Age\"],y=plot_by_age[\"Exited\"])\n",
    "\n",
    "# pad the spacing between the number and the edge of the figure\n",
    "g.margins(y=0.1)"
   ]
  },
  {
   "cell_type": "code",
   "execution_count": 136,
   "id": "c39dd854",
   "metadata": {},
   "outputs": [
    {
     "data": {
      "image/png": "[encoded data removed]",
      "text/plain": [
       "<Figure size 864x576 with 1 Axes>"
      ]
     },
     "metadata": {},
     "output_type": "display_data"
    }
   ],
   "source": [
    "#Churn Rate by Credit Score\n",
    "plot_by_score= churn_df.groupby('CreditScore').Exited.mean().reset_index()\n",
    "matplotlib.rc('xtick', labelsize=12) \n",
    "matplotlib.rc('ytick', labelsize=12)\n",
    "fig, ax = plt.subplots(figsize=(12, 8))\n",
    "plt.title('Fig: 6 Churn Credit Score', size = 16)\n",
    "g = sns.scatterplot(x=plot_by_score[\"CreditScore\"],y=plot_by_score[\"Exited\"])\n",
    "\n",
    "# pad the spacing between the number and the edge of the figure\n",
    "g.margins(y=0.1)"
   ]
  },
  {
   "cell_type": "code",
   "execution_count": 137,
   "id": "6f46fb68",
   "metadata": {},
   "outputs": [
    {
     "data": {
      "image/png": "[encoded data removed]",
      "text/plain": [
       "<Figure size 792x504 with 1 Axes>"
      ]
     },
     "metadata": {},
     "output_type": "display_data"
    }
   ],
   "source": [
    "#Churn Rate by Credit Score\n",
    "matplotlib.rc('xtick', labelsize=12) \n",
    "matplotlib.rc('ytick', labelsize=12)\n",
    "fig, ax = plt.subplots(figsize=(11, 7))\n",
    "plt.title('Fig: 7 Churn by Bank Balance', size = 16)\n",
    "g = sns.boxplot(y='Balance',x = 'Exited', hue = 'Exited',data = churn_df)\n",
    "\n",
    "# pad the spacing between the number and the edge of the figure\n",
    "g.margins(y=0.1)"
   ]
  },
  {
   "cell_type": "markdown",
   "id": "6a9f430d",
   "metadata": {},
   "source": [
    "**Summary Highlights**\n",
    "1. In terms of tenure, clients on either end of the spectrum (having spent little or a lot of time with the bank) are more likely to churn than those with an average tenure. **(Fig: 4)** \n",
    "2. Older customers aged 50-60 years old, despite constituting a small proportion of the customer base, have a proclivity to leave the bank **(Fig: 5)**\n",
    "3. Customers with lower credit card scores are more likely to churn. **(Fig: 6)**\n",
    "\n",
    "4. Worryingly, the bank is losing customers with large bank balances, which will reduce their available capital for lending. **(Fig: 7)**"
   ]
  },
  {
   "cell_type": "code",
   "execution_count": 138,
   "id": "f4966190",
   "metadata": {},
   "outputs": [
    {
     "data": {
      "text/plain": [
       "Text(0.5, 1.0, 'Churn Rate By Product Type')"
      ]
     },
     "execution_count": 138,
     "metadata": {},
     "output_type": "execute_result"
    },
    {
     "data": {
      "image/png": "[encoded data removed]",
      "text/plain": [
       "<Figure size 1152x504 with 2 Axes>"
      ]
     },
     "metadata": {},
     "output_type": "display_data"
    }
   ],
   "source": [
    "fig, axes = plt.subplots(1, 2, figsize=(16, 7))\n",
    "fig.suptitle('Fig: 8 Customer Products Churn', size = 16)\n",
    "\n",
    "# Count of Customers On a Product\n",
    "g= sns.countplot(ax= axes[0], x=\"NumOfProducts\",data=churn_df)\n",
    "g.bar_label(axes[0].containers[0], label_type='edge',fmt='%g',fontsize=13, color = \"#111\")\n",
    "axes[0].set_title(\"Count of Customers On a Product\")\n",
    "\n",
    "# Churn Rate By Product Type\n",
    "a = sns.barplot(ax= axes[1], x=\"NumOfProducts\",y=\"Exited\",data=churn_df) \n",
    "a.bar_label(axes[1].containers[0], label_type='center',fmt=\"%g\",fontsize=13, color = \"w\")\n",
    "axes[1].set_title('Churn Rate By Product Type')\n"
   ]
  },
  {
   "cell_type": "markdown",
   "id": "d382b82f",
   "metadata": {},
   "source": [
    "**Summary Highlights:**\n",
    "\n",
    "Products 3 and 4 have more customer exit, despite the fact that they are used by a small number of customers. Products 1 and 2 are the most frequently used by customers, whereas products 3 and 4 are rarely used but have a higher exit rate.\n",
    "\n",
    "**Recommendations**\n",
    "1. Given the geography, customers in Germany have a high churn rate. The bank should concentrate on improving its facilities and services in Germany.\n",
    "\n",
    "2. Older people (51-60) may require a better product or promotion, such as a better retirement plan, higher interest rate, or similar.\n",
    "\n",
    "3. The bank should discontinue using products 3 and 4, as they are less likely to be chosen and have a high churn rate. As a result, the bank can concentrate on promoting products 1 and 2. Because the churn rate is quite high (27%), the company can review customer satisfaction and opinion for product number one.\n",
    "\n",
    "**Note**\n",
    "\n",
    "Because 20% of customers have churned, the baseline model may be able to predict that 20% of customers will churn. Given that 20% is a small number, we must ensure that the chosen model accurately predicts this 20%, as it is more important for the bank to identify and retain this group than it is to accurately predict the customers who are retained."
   ]
  },
  {
   "cell_type": "markdown",
   "id": "6d6a9d69",
   "metadata": {},
   "source": [
    "## Feature Engineering"
   ]
  },
  {
   "cell_type": "markdown",
   "id": "b254770e",
   "metadata": {},
   "source": [
    "### One-Hot Enconding"
   ]
  },
  {
   "cell_type": "code",
   "execution_count": 139,
   "id": "f513dabd",
   "metadata": {},
   "outputs": [],
   "source": [
    "#Remove less Correlated Features\n",
    "churn_df.drop(['RowNumber', 'Surname'],axis=1,inplace=True) "
   ]
  },
  {
   "cell_type": "code",
   "execution_count": 140,
   "id": "c1fcc7f5",
   "metadata": {},
   "outputs": [],
   "source": [
    "#Perform One Hot Encoding using get_dummies method\n",
    "churn_df = pd.get_dummies(churn_df, columns = ['Geography', 'Gender','HasCrCard', 'IsActiveMember',\"NumOfProducts\"],drop_first=True)"
   ]
  },
  {
   "cell_type": "markdown",
   "id": "2446f90c",
   "metadata": {},
   "source": [
    "### MinMax Scaling "
   ]
  },
  {
   "cell_type": "code",
   "execution_count": 141,
   "id": "23296cae",
   "metadata": {},
   "outputs": [
    {
     "data": {
      "text/html": [
       "<div><div id=067686b0-d19d-4cc6-9c39-953dad5ff8a2 style=\"display:none; background-color:#9D6CFF; color:white; width:200px; height:30px; padding-left:5px; border-radius:4px; flex-direction:row; justify-content:space-around; align-items:center;\" onmouseover=\"this.style.backgroundColor='#BA9BF8'\" onmouseout=\"this.style.backgroundColor='#9D6CFF'\" onclick=\"window.commands?.execute('create-mitosheet-from-dataframe-output');\">See Full Dataframe in Mito</div> <script> if (window.commands?.hasCommand('create-mitosheet-from-dataframe-output')) document.getElementById('067686b0-d19d-4cc6-9c39-953dad5ff8a2').style.display = 'flex' </script> <table border=\"1\" class=\"dataframe\">\n",
       "  <thead>\n",
       "    <tr style=\"text-align: right;\">\n",
       "      <th></th>\n",
       "      <th>CustomerId</th>\n",
       "      <th>CreditScore</th>\n",
       "      <th>Age</th>\n",
       "      <th>Tenure</th>\n",
       "      <th>Balance</th>\n",
       "      <th>EstimatedSalary</th>\n",
       "      <th>Exited</th>\n",
       "      <th>Geography_Germany</th>\n",
       "      <th>Geography_Spain</th>\n",
       "      <th>Gender_Male</th>\n",
       "      <th>HasCrCard_1</th>\n",
       "      <th>IsActiveMember_1</th>\n",
       "      <th>NumOfProducts_2</th>\n",
       "      <th>NumOfProducts_3</th>\n",
       "      <th>NumOfProducts_4</th>\n",
       "    </tr>\n",
       "  </thead>\n",
       "  <tbody>\n",
       "    <tr>\n",
       "      <th>0</th>\n",
       "      <td>15634602</td>\n",
       "      <td>0.538</td>\n",
       "      <td>0.324324</td>\n",
       "      <td>0.2</td>\n",
       "      <td>0.000000</td>\n",
       "      <td>0.506735</td>\n",
       "      <td>1</td>\n",
       "      <td>0</td>\n",
       "      <td>0</td>\n",
       "      <td>0</td>\n",
       "      <td>1</td>\n",
       "      <td>1</td>\n",
       "      <td>0</td>\n",
       "      <td>0</td>\n",
       "      <td>0</td>\n",
       "    </tr>\n",
       "    <tr>\n",
       "      <th>1</th>\n",
       "      <td>15647311</td>\n",
       "      <td>0.516</td>\n",
       "      <td>0.310811</td>\n",
       "      <td>0.1</td>\n",
       "      <td>0.334031</td>\n",
       "      <td>0.562709</td>\n",
       "      <td>0</td>\n",
       "      <td>0</td>\n",
       "      <td>1</td>\n",
       "      <td>0</td>\n",
       "      <td>0</td>\n",
       "      <td>1</td>\n",
       "      <td>0</td>\n",
       "      <td>0</td>\n",
       "      <td>0</td>\n",
       "    </tr>\n",
       "    <tr>\n",
       "      <th>2</th>\n",
       "      <td>15619304</td>\n",
       "      <td>0.304</td>\n",
       "      <td>0.324324</td>\n",
       "      <td>0.8</td>\n",
       "      <td>0.636357</td>\n",
       "      <td>0.569654</td>\n",
       "      <td>1</td>\n",
       "      <td>0</td>\n",
       "      <td>0</td>\n",
       "      <td>0</td>\n",
       "      <td>1</td>\n",
       "      <td>0</td>\n",
       "      <td>0</td>\n",
       "      <td>1</td>\n",
       "      <td>0</td>\n",
       "    </tr>\n",
       "    <tr>\n",
       "      <th>3</th>\n",
       "      <td>15701354</td>\n",
       "      <td>0.698</td>\n",
       "      <td>0.283784</td>\n",
       "      <td>0.1</td>\n",
       "      <td>0.000000</td>\n",
       "      <td>0.469120</td>\n",
       "      <td>0</td>\n",
       "      <td>0</td>\n",
       "      <td>0</td>\n",
       "      <td>0</td>\n",
       "      <td>0</td>\n",
       "      <td>0</td>\n",
       "      <td>1</td>\n",
       "      <td>0</td>\n",
       "      <td>0</td>\n",
       "    </tr>\n",
       "    <tr>\n",
       "      <th>4</th>\n",
       "      <td>15737888</td>\n",
       "      <td>1.000</td>\n",
       "      <td>0.337838</td>\n",
       "      <td>0.2</td>\n",
       "      <td>0.500246</td>\n",
       "      <td>0.395400</td>\n",
       "      <td>0</td>\n",
       "      <td>0</td>\n",
       "      <td>1</td>\n",
       "      <td>0</td>\n",
       "      <td>1</td>\n",
       "      <td>1</td>\n",
       "      <td>0</td>\n",
       "      <td>0</td>\n",
       "      <td>0</td>\n",
       "    </tr>\n",
       "  </tbody>\n",
       "</table></div>"
      ],
      "text/plain": [
       "   CustomerId  CreditScore       Age  Tenure   Balance  EstimatedSalary  \\\n",
       "0    15634602        0.538  0.324324     0.2  0.000000         0.506735   \n",
       "1    15647311        0.516  0.310811     0.1  0.334031         0.562709   \n",
       "2    15619304        0.304  0.324324     0.8  0.636357         0.569654   \n",
       "3    15701354        0.698  0.283784     0.1  0.000000         0.469120   \n",
       "4    15737888        1.000  0.337838     0.2  0.500246         0.395400   \n",
       "\n",
       "   Exited  Geography_Germany  Geography_Spain  Gender_Male  HasCrCard_1  \\\n",
       "0       1                  0                0            0            1   \n",
       "1       0                  0                1            0            0   \n",
       "2       1                  0                0            0            1   \n",
       "3       0                  0                0            0            0   \n",
       "4       0                  0                1            0            1   \n",
       "\n",
       "   IsActiveMember_1  NumOfProducts_2  NumOfProducts_3  NumOfProducts_4  \n",
       "0                 1                0                0                0  \n",
       "1                 1                0                0                0  \n",
       "2                 0                0                1                0  \n",
       "3                 0                1                0                0  \n",
       "4                 1                0                0                0  "
      ]
     },
     "execution_count": 141,
     "metadata": {},
     "output_type": "execute_result"
    }
   ],
   "source": [
    "# minMax scaling the continuous variables\n",
    "continuous_vars =['CreditScore', 'Age', 'Tenure', 'Balance', 'EstimatedSalary'] \n",
    "from sklearn.preprocessing import MinMaxScaler\n",
    "min_max=MinMaxScaler()\n",
    "churn_df[continuous_vars]=pd.DataFrame(min_max.fit_transform(churn_df[continuous_vars]))\n",
    "churn_df.head()"
   ]
  },
  {
   "cell_type": "markdown",
   "id": "87d680a8",
   "metadata": {},
   "source": [
    "### Resampling (undersampling) "
   ]
  },
  {
   "cell_type": "markdown",
   "id": "b525c9fd",
   "metadata": {},
   "source": [
    "Because 20% of customers have churned, the baseline model may be able to predict that 20% of customers will churn. This is a problem since the data is imbalance. This will create a bias in our accuracy. To prevent this we will perform undersampling on our dataset."
   ]
  },
  {
   "cell_type": "code",
   "execution_count": 142,
   "id": "69da9166",
   "metadata": {},
   "outputs": [
    {
     "name": "stdout",
     "output_type": "stream",
     "text": [
      "(2037, 15) (7963, 15)\n"
     ]
    }
   ],
   "source": [
    "# Checking the shape of the exited coulmn by class\n",
    "churned = churn_df[churn_df['Exited']==1]\n",
    "not_churn = churn_df[churn_df['Exited']==0]\n",
    "print(churned.shape,not_churn.shape)"
   ]
  },
  {
   "cell_type": "code",
   "execution_count": 143,
   "id": "ca5e60fb",
   "metadata": {},
   "outputs": [
    {
     "name": "stdout",
     "output_type": "stream",
     "text": [
      "(10000, 14)\n",
      "(10000,)\n"
     ]
    }
   ],
   "source": [
    "#Create independent and Dependent Features\n",
    "columns = churn_df.columns.tolist()\n",
    "# Filter the columns to remove data we do not want \n",
    "columns = [c for c in columns if c not in [\"Exited\"]]\n",
    "# Store the variable we are predicting \n",
    "target = \"Exited\"\n",
    "# Define a random state \n",
    "state = np.random.RandomState(42)\n",
    "X = churn_df[columns]\n",
    "Y = churn_df[target]\n",
    "X_outliers = state.uniform(low=0, high=1, size=(X.shape[0], X.shape[1]))\n",
    "# Print the shapes of X & Y\n",
    "print(X.shape)\n",
    "print(Y.shape)"
   ]
  },
  {
   "cell_type": "code",
   "execution_count": 144,
   "id": "826a06a9",
   "metadata": {},
   "outputs": [],
   "source": [
    "from imblearn.under_sampling import NearMiss\n",
    "# Implementing Undersampling for Handling Imbalanced \n",
    "nm = NearMiss()\n",
    "X_res, y_res = nm.fit_resample(X, Y)"
   ]
  },
  {
   "cell_type": "code",
   "execution_count": 145,
   "id": "1c17e70e",
   "metadata": {},
   "outputs": [
    {
     "data": {
      "text/plain": [
       "((4074, 14), (4074,))"
      ]
     },
     "execution_count": 145,
     "metadata": {},
     "output_type": "execute_result"
    }
   ],
   "source": [
    "X_res.shape,y_res.shape"
   ]
  },
  {
   "cell_type": "code",
   "execution_count": 146,
   "id": "009e683b",
   "metadata": {},
   "outputs": [
    {
     "name": "stdout",
     "output_type": "stream",
     "text": [
      "Original dataset shape Counter({0: 7963, 1: 2037})\n",
      "Resampled dataset shape Counter({0: 2037, 1: 2037})\n"
     ]
    }
   ],
   "source": [
    "from collections import Counter\n",
    "print('Original dataset shape {}'.format(Counter(Y)))\n",
    "print('Resampled dataset shape {}'.format(Counter(y_res)))"
   ]
  },
  {
   "cell_type": "markdown",
   "id": "7939fabd",
   "metadata": {},
   "source": [
    "Once our data is balanced let's move on to build our machine learning model"
   ]
  },
  {
   "cell_type": "markdown",
   "id": "b4bb5147",
   "metadata": {},
   "source": [
    "## Model Building and Selection"
   ]
  },
  {
   "cell_type": "code",
   "execution_count": 147,
   "id": "e14da175",
   "metadata": {},
   "outputs": [],
   "source": [
    "#Create Feature variable X and Target variable y\n",
    "y = y_res\n",
    "X = X_res.drop([\"CustomerId\"], axis = 1)"
   ]
  },
  {
   "cell_type": "code",
   "execution_count": 148,
   "id": "63cdef5d",
   "metadata": {},
   "outputs": [],
   "source": [
    "#Split the data into training set (70%) and test set (30%)\n",
    "from sklearn.model_selection import train_test_split\n",
    "X_train, X_test, y_train, y_test = train_test_split(X, y, test_size = 0.30, random_state = 50)"
   ]
  },
  {
   "cell_type": "markdown",
   "id": "e8e28f32",
   "metadata": {},
   "source": [
    "To choose the best model, seven classification models are compared and the best one is selected based on their accuracy score since the data is balanced"
   ]
  },
  {
   "cell_type": "code",
   "execution_count": 149,
   "id": "b7ecf48f",
   "metadata": {},
   "outputs": [],
   "source": [
    "# Machine Learning classification model libraries\n",
    "from sklearn.linear_model import LogisticRegression\n",
    "from sklearn.neighbors import KNeighborsClassifier\n",
    "from sklearn.svm import SVC\n",
    "from sklearn.tree import DecisionTreeClassifier\n",
    "from sklearn.ensemble import RandomForestClassifier\n",
    "from xgboost import XGBClassifier\n",
    "from sklearn.naive_bayes import GaussianNB\n",
    "from sklearn import metrics\n",
    "from sklearn.metrics import classification_report"
   ]
  },
  {
   "cell_type": "code",
   "execution_count": 150,
   "id": "6027fb12",
   "metadata": {},
   "outputs": [],
   "source": [
    "#Fit the logistic Regression Model\n",
    "logit = LogisticRegression(random_state=50)\n",
    "logit.fit(X_train,y_train)\n",
    "\n",
    "#Predict the value for new, unseen data\n",
    "pred = logit.predict(X_test)\n",
    "\n",
    "# Find Accuracy using accuracy_score method\n",
    "logit_accuracy = round(metrics.accuracy_score(y_test, pred) * 100, 2)\n",
    "logit_recall = round(metrics.recall_score(y_test,pred)*100, 2)\n",
    "logit_precision = round(metrics.precision_score(y_test,pred)*100, 2)\n",
    "logit_f1 = round(metrics.f1_score(y_test,pred)*100, 2)\n",
    "\n"
   ]
  },
  {
   "cell_type": "code",
   "execution_count": 151,
   "id": "6163d654",
   "metadata": {},
   "outputs": [],
   "source": [
    "#Fit the Support Vector Machine Model\n",
    "svcmodel = SVC(kernel='linear', random_state=50, probability=True)\n",
    "svcmodel.fit(X_train,y_train)\n",
    "#Predict the value for new, unseen data\n",
    "svc_pred = svcmodel.predict(X_test)\n",
    "\n",
    "# Find Accuracy using accuracy_score method\n",
    "svc_accuracy = round(metrics.accuracy_score(y_test, svc_pred) * 100, 2)\n",
    "svc_recall = round(metrics.recall_score(y_test,svc_pred)*100, 2)\n",
    "svc_f1 = round(metrics.f1_score(y_test,svc_pred)*100, 2)"
   ]
  },
  {
   "cell_type": "code",
   "execution_count": 152,
   "id": "f11baf1b",
   "metadata": {},
   "outputs": [],
   "source": [
    "#Fit the K-Nearest Neighbor Model\n",
    "from sklearn.neighbors import KNeighborsClassifier\n",
    "knnmodel = KNeighborsClassifier(n_neighbors=5, metric='minkowski', p=2) #p=2 represents Euclidean distance, p=1 represents Manhattan Distance\n",
    "knnmodel.fit(X_train, y_train) \n",
    "  \n",
    "#Predict the value for new, unseen data\n",
    "knn_pred = knnmodel.predict(X_test)\n",
    "\n",
    "# Find Accuracy using accuracy_score method\n",
    "knn_accuracy = round(metrics.accuracy_score(y_test, knn_pred) * 100, 2)\n",
    "knn_recall = round(metrics.recall_score(y_test,knn_pred)*100, 2)\n",
    "knn_precision = round(metrics.precision_score(y_test,knn_pred)*100, 2)\n",
    "knn_f1 = round(metrics.f1_score(y_test,knn_pred)*100, 2)"
   ]
  },
  {
   "cell_type": "code",
   "execution_count": 153,
   "id": "3015b391",
   "metadata": {},
   "outputs": [],
   "source": [
    "#Fit the Decision Tree Classification Model\n",
    "from sklearn.tree import DecisionTreeClassifier\n",
    "dtmodel = DecisionTreeClassifier(criterion = \"gini\", random_state = 50)\n",
    "dtmodel.fit(X_train, y_train) \n",
    "  \n",
    "#Predict the value for new, unseen data\n",
    "dt_pred = dtmodel.predict(X_test)\n",
    "\n",
    "# Find Accuracy using accuracy_score method\n",
    "dt_accuracy = round(metrics.accuracy_score(y_test, dt_pred) * 100, 2)\n",
    "dt_recall = round(metrics.recall_score(y_test,dt_pred)*100, 2)\n",
    "dt_precision = round(metrics.precision_score(y_test,dt_pred)*100, 2)\n",
    "dt_f1 = round(metrics.f1_score(y_test,dt_pred)*100, 2)"
   ]
  },
  {
   "cell_type": "code",
   "execution_count": 154,
   "id": "b56346cb",
   "metadata": {},
   "outputs": [],
   "source": [
    "#Fit the Random Forest Classification Model\n",
    "from sklearn.ensemble import RandomForestClassifier\n",
    "rfmodel = RandomForestClassifier(n_estimators = 100, criterion = 'entropy', random_state = 0)\n",
    "rfmodel.fit(X_train, y_train) \n",
    "  \n",
    "#Predict the value for new, unseen data\n",
    "rf_pred = rfmodel.predict(X_test)\n",
    "\n",
    "# Find Accuracy using accuracy_score method\n",
    "rf_accuracy = round(metrics.accuracy_score(y_test, rf_pred) * 100, 2)\n",
    "rf_recall = round(metrics.recall_score(y_test,rf_pred)*100, 2)\n",
    "rf_precision = round(metrics.precision_score(y_test,rf_pred)*100, 2)\n",
    "rf_f1 = round(metrics.f1_score(y_test,rf_pred)*100, 2)"
   ]
  },
  {
   "cell_type": "code",
   "execution_count": 155,
   "id": "37b0bea3",
   "metadata": {},
   "outputs": [],
   "source": [
    "#Fit the XgBoost Classifier \n",
    "model = XGBClassifier(use_label_encoder=False, eval_metric='mlogloss')\n",
    "model.fit(X_train, y_train)\n",
    "\n",
    "#Predict the value for new, unseen data\n",
    "xg_pred = model.predict(X_test)\n",
    "\n",
    "# Find Accuracy using accuracy_score method\n",
    "xg_accuracy = round(metrics.accuracy_score(y_test, xg_pred) * 100, 2)\n",
    "xg_recall = round(metrics.recall_score(y_test,xg_pred)*100, 2)\n",
    "xg_precision = round(metrics.precision_score(y_test,xg_pred)*100, 2)\n",
    "xg_f1 = round(metrics.f1_score(y_test,xg_pred)*100, 2)"
   ]
  },
  {
   "cell_type": "code",
   "execution_count": 156,
   "id": "74c705a1",
   "metadata": {},
   "outputs": [],
   "source": [
    "#Fit the Naive Bayes Classifier\n",
    "bcmodel = GaussianNB()\n",
    "bcmodel.fit(X_train,y_train)\n",
    "\n",
    "#Predict the value for new, unseen data\n",
    "bc_pred = bcmodel.predict(X_test)\n",
    "\n",
    "# Find Accuracy using accuracy_score method\n",
    "bc_accuracy = round(metrics.accuracy_score(y_test, bc_pred) * 100, 2)\n",
    "bc_recall = round(metrics.recall_score(y_test,bc_pred)*100, 2)\n",
    "bc_precision = round(metrics.precision_score(y_test,bc_pred)*100, 2)\n",
    "bc_f1 = round(metrics.f1_score(y_test,bc_pred)*100, 2)\n"
   ]
  },
  {
   "cell_type": "code",
   "execution_count": 157,
   "id": "c42ec640",
   "metadata": {},
   "outputs": [
    {
     "data": {
      "text/html": [
       "<div><div id=4003b5f7-7a61-47e7-8d6e-b492ddb5aaeb style=\"display:none; background-color:#9D6CFF; color:white; width:200px; height:30px; padding-left:5px; border-radius:4px; flex-direction:row; justify-content:space-around; align-items:center;\" onmouseover=\"this.style.backgroundColor='#BA9BF8'\" onmouseout=\"this.style.backgroundColor='#9D6CFF'\" onclick=\"window.commands?.execute('create-mitosheet-from-dataframe-output');\">See Full Dataframe in Mito</div> <script> if (window.commands?.hasCommand('create-mitosheet-from-dataframe-output')) document.getElementById('4003b5f7-7a61-47e7-8d6e-b492ddb5aaeb').style.display = 'flex' </script> <table border=\"1\" class=\"dataframe\">\n",
       "  <thead>\n",
       "    <tr style=\"text-align: right;\">\n",
       "      <th></th>\n",
       "      <th>Accuracy</th>\n",
       "      <th>Model</th>\n",
       "    </tr>\n",
       "  </thead>\n",
       "  <tbody>\n",
       "    <tr>\n",
       "      <th>0</th>\n",
       "      <td>77.19</td>\n",
       "      <td>Random Forest</td>\n",
       "    </tr>\n",
       "    <tr>\n",
       "      <th>1</th>\n",
       "      <td>75.88</td>\n",
       "      <td>Logistic Regression</td>\n",
       "    </tr>\n",
       "    <tr>\n",
       "      <th>2</th>\n",
       "      <td>75.88</td>\n",
       "      <td>XGBoost</td>\n",
       "    </tr>\n",
       "    <tr>\n",
       "      <th>3</th>\n",
       "      <td>75.80</td>\n",
       "      <td>Support Vector Machine</td>\n",
       "    </tr>\n",
       "    <tr>\n",
       "      <th>4</th>\n",
       "      <td>71.55</td>\n",
       "      <td>K-Nearest Neighbor</td>\n",
       "    </tr>\n",
       "    <tr>\n",
       "      <th>5</th>\n",
       "      <td>70.07</td>\n",
       "      <td>Decision Tree</td>\n",
       "    </tr>\n",
       "    <tr>\n",
       "      <th>6</th>\n",
       "      <td>55.68</td>\n",
       "      <td>NaiveBayes Classifier</td>\n",
       "    </tr>\n",
       "  </tbody>\n",
       "</table></div>"
      ],
      "text/plain": [
       "   Accuracy                   Model\n",
       "0     77.19           Random Forest\n",
       "1     75.88     Logistic Regression\n",
       "2     75.88                 XGBoost\n",
       "3     75.80  Support Vector Machine\n",
       "4     71.55      K-Nearest Neighbor\n",
       "5     70.07           Decision Tree\n",
       "6     55.68   NaiveBayes Classifier"
      ]
     },
     "execution_count": 157,
     "metadata": {},
     "output_type": "execute_result"
    }
   ],
   "source": [
    "# Compare Several models according to their Accuracies\n",
    "Model_Comparison = pd.DataFrame({\n",
    "    'Model': ['Logistic Regression', 'Support Vector Machine', 'K-Nearest Neighbor', \n",
    "              'Decision Tree', 'Random Forest',\"XGBoost\",\"NaiveBayes Classifier\"],\n",
    "    'Accuracy': [logit_accuracy, svc_accuracy, knn_accuracy, \n",
    "              dt_accuracy, rf_accuracy,xg_accuracy, bc_accuracy,]})\n",
    "Model_Comparison_df = Model_Comparison.sort_values(by='Accuracy', ascending=False)\n",
    "Model_Comparison_df = Model_Comparison_df.set_index('Accuracy')\n",
    "Model_Comparison_df.reset_index()"
   ]
  },
  {
   "cell_type": "markdown",
   "id": "1d9141bb",
   "metadata": {},
   "source": [
    "From the Model comparison above Random Forest had the highest accuracy score, before making predictions with it we will plot the confusion matrix to see how well the model did in predictions."
   ]
  },
  {
   "cell_type": "code",
   "execution_count": 158,
   "id": "755fe1ec",
   "metadata": {},
   "outputs": [
    {
     "data": {
      "text/plain": [
       "<AxesSubplot:>"
      ]
     },
     "execution_count": 158,
     "metadata": {},
     "output_type": "execute_result"
    },
    {
     "data": {
      "image/png": "[encoded data removed]",
      "text/plain": [
       "<Figure size 432x288 with 1 Axes>"
      ]
     },
     "metadata": {},
     "output_type": "display_data"
    }
   ],
   "source": [
    "#Generate confusion matrix for the RandomForest model as it has maximum Accuracy\n",
    "from sklearn.metrics import confusion_matrix\n",
    "conf_mat_rfmodel = confusion_matrix(y_test,pred)\n",
    "sns.heatmap(conf_mat_rfmodel/np.sum(conf_mat_rfmodel),annot = True,fmt='.2%',cmap = \"coolwarm\",cbar = False,annot_kws={'fontsize': 15,  'color':'w'})"
   ]
  },
  {
   "cell_type": "markdown",
   "id": "8c754a78",
   "metadata": {},
   "source": [
    "**Summary of Model Performance**\n",
    "\n",
    "This confusion matrix compares \"true\" values to what our random forest model predicted, and it is interpreted as follows: each quadrant represents all conceivable scenarios that our model might have predicted and compares them to the actual data. Quadrant II (top left) represents the cases where the random forest model correctly predicted no churn and no churn really occurred in real life (37.29 % of total test population) - these are also known as False Positives since we have correctly recognized negative values. Quadrant IV (bottom right) - quantify the percent of times when a customer effectively churned and our model projected that it would churn — these are known as True Positives and account for 38.59 %. In contrast, Quadrant I ( upper right) and Quadrant III (bottom left) demonstrate the model's level of inaccuracy. In other words, 12.26% of the overall population would fall into the area where our model predicted individuals would leave but they did not. Diametrically, Quadrant III shows that the model incorrectly classified 11.86% of the overall population as non-churned. By adding the percentages of Quadrants I and III and comparing them to the percentages of Quadrants II and IV, we may infer that our model is accurate 76% of the time but incorrect 24% of the time. Given the different scenarios and interpretabilities that the matrix generates, you may have noticed why it is called a confusion matrix by now, but I hope that my explanation was simple enough to help you understand the overall concept."
   ]
  },
  {
   "cell_type": "markdown",
   "id": "4e40beee",
   "metadata": {},
   "source": [
    "### CHECKING FOR OVER FITTING AND UNDERFITTING"
   ]
  },
  {
   "cell_type": "code",
   "execution_count": 159,
   "id": "c985ca5c",
   "metadata": {},
   "outputs": [
    {
     "name": "stdout",
     "output_type": "stream",
     "text": [
      "accuracy of test data: 77.19 %\n",
      "accuracy of train data: 100.0 %\n"
     ]
    }
   ],
   "source": [
    "#accuracy of test data\n",
    "rf_pred = rfmodel.predict(X_test)\n",
    "rf_accuracy = round(metrics.accuracy_score(y_test, rf_pred) * 100, 2)\n",
    "\n",
    "#accuracy of train data\n",
    "rf_pred1 = rfmodel.predict(X_train)\n",
    "rf_accuracy2 = round(metrics.accuracy_score(y_train, rf_pred1) * 100, 2)\n",
    "\n",
    "print(\"accuracy of test data:\",rf_accuracy,\"%\")\n",
    "print(\"accuracy of train data:\",rf_accuracy2,\"%\")"
   ]
  },
  {
   "cell_type": "markdown",
   "id": "e324bbe9",
   "metadata": {},
   "source": [
    "Before we use this model for prediction, we need to check whether our model is overfitting or underfitting.From our result we found out that the model is overfitting, this is a bad indication, since our train set has a 100% accuracy, the model will perform poorly in unseen data. So we solve this problem by performing random forest hyperparameter tuning with GridSearchCV"
   ]
  },
  {
   "cell_type": "markdown",
   "id": "26b97a60",
   "metadata": {},
   "source": [
    "### Random Forest hyperparameter tuning with GridSearchCV"
   ]
  },
  {
   "cell_type": "code",
   "execution_count": 160,
   "id": "ed1b2049",
   "metadata": {},
   "outputs": [],
   "source": [
    "# Number of trees in random forest\n",
    "n_estimators = [int(x) for x in np.linspace(start = 10, stop = 80, num = 10)]\n",
    "# Number of features to consider at every split\n",
    "max_features = ['auto', 'sqrt']\n",
    "# Maximum number of levels in tree\n",
    "max_depth = [2,4]\n",
    "# Minimum number of samples required to split a node\n",
    "min_samples_split = [2, 5]\n",
    "# Minimum number of samples required at each leaf node\n",
    "min_samples_leaf = [1, 2]\n",
    "# Method of selecting samples for training each tree\n",
    "bootstrap = [True, False]"
   ]
  },
  {
   "cell_type": "code",
   "execution_count": 161,
   "id": "64ba247e",
   "metadata": {},
   "outputs": [
    {
     "name": "stdout",
     "output_type": "stream",
     "text": [
      "{'n_estimators': [10, 17, 25, 33, 41, 48, 56, 64, 72, 80], 'max_features': ['auto', 'sqrt'], 'max_depth': [2, 4], 'min_samples_split': [2, 5], 'min_samples_leaf': [1, 2], 'bootstrap': [True, False]}\n"
     ]
    }
   ],
   "source": [
    "# Create the param grid\n",
    "param_grid = {'n_estimators': n_estimators,\n",
    "               'max_features': max_features,\n",
    "               'max_depth': max_depth,\n",
    "               'min_samples_split': min_samples_split,\n",
    "               'min_samples_leaf': min_samples_leaf,\n",
    "               'bootstrap': bootstrap}\n",
    "print(param_grid)"
   ]
  },
  {
   "cell_type": "code",
   "execution_count": 162,
   "id": "be82d2e2",
   "metadata": {},
   "outputs": [],
   "source": [
    "#Initialize  random forest model.\n",
    "rf_Model = RandomForestClassifier()"
   ]
  },
  {
   "cell_type": "code",
   "execution_count": 163,
   "id": "93dcf821",
   "metadata": {},
   "outputs": [],
   "source": [
    "#Genrate a GridSearchCV with random forest as the estimator, and a cross validation of 3\n",
    "from sklearn.model_selection import GridSearchCV\n",
    "rf_Grid = GridSearchCV(estimator = rf_Model, param_grid = param_grid, cv = 3, verbose=2, n_jobs = 4)"
   ]
  },
  {
   "cell_type": "code",
   "execution_count": 164,
   "id": "af445762",
   "metadata": {},
   "outputs": [
    {
     "name": "stdout",
     "output_type": "stream",
     "text": [
      "Fitting 3 folds for each of 320 candidates, totalling 960 fits\n"
     ]
    },
    {
     "name": "stderr",
     "output_type": "stream",
     "text": [
      "c:\\Users\\David Sanchez Jnr\\anaconda3\\lib\\site-packages\\sklearn\\ensemble\\_forest.py:427: FutureWarning:\n",
      "\n",
      "`max_features='auto'` has been deprecated in 1.1 and will be removed in 1.3. To keep the past behaviour, explicitly set `max_features='sqrt'` or remove this parameter as it is also the default value for RandomForestClassifiers and ExtraTreesClassifiers.\n",
      "\n"
     ]
    },
    {
     "data": {
      "text/html": [
       "<style>#sk-container-id-5 {color: black;background-color: white;}#sk-container-id-5 pre{padding: 0;}#sk-container-id-5 div.sk-toggleable {background-color: white;}#sk-container-id-5 label.sk-toggleable__label {cursor: pointer;display: block;width: 100%;margin-bottom: 0;padding: 0.3em;box-sizing: border-box;text-align: center;}#sk-container-id-5 label.sk-toggleable__label-arrow:before {content: \"▸\";float: left;margin-right: 0.25em;color: #696969;}#sk-container-id-5 label.sk-toggleable__label-arrow:hover:before {color: black;}#sk-container-id-5 div.sk-estimator:hover label.sk-toggleable__label-arrow:before {color: black;}#sk-container-id-5 div.sk-toggleable__content {max-height: 0;max-width: 0;overflow: hidden;text-align: left;background-color: #f0f8ff;}#sk-container-id-5 div.sk-toggleable__content pre {margin: 0.2em;color: black;border-radius: 0.25em;background-color: #f0f8ff;}#sk-container-id-5 input.sk-toggleable__control:checked~div.sk-toggleable__content {max-height: 200px;max-width: 100%;overflow: auto;}#sk-container-id-5 input.sk-toggleable__control:checked~label.sk-toggleable__label-arrow:before {content: \"▾\";}#sk-container-id-5 div.sk-estimator input.sk-toggleable__control:checked~label.sk-toggleable__label {background-color: #d4ebff;}#sk-container-id-5 div.sk-label input.sk-toggleable__control:checked~label.sk-toggleable__label {background-color: #d4ebff;}#sk-container-id-5 input.sk-hidden--visually {border: 0;clip: rect(1px 1px 1px 1px);clip: rect(1px, 1px, 1px, 1px);height: 1px;margin: -1px;overflow: hidden;padding: 0;position: absolute;width: 1px;}#sk-container-id-5 div.sk-estimator {font-family: monospace;background-color: #f0f8ff;border: 1px dotted black;border-radius: 0.25em;box-sizing: border-box;margin-bottom: 0.5em;}#sk-container-id-5 div.sk-estimator:hover {background-color: #d4ebff;}#sk-container-id-5 div.sk-parallel-item::after {content: \"\";width: 100%;border-bottom: 1px solid gray;flex-grow: 1;}#sk-container-id-5 div.sk-label:hover label.sk-toggleable__label {background-color: #d4ebff;}#sk-container-id-5 div.sk-serial::before {content: \"\";position: absolute;border-left: 1px solid gray;box-sizing: border-box;top: 0;bottom: 0;left: 50%;z-index: 0;}#sk-container-id-5 div.sk-serial {display: flex;flex-direction: column;align-items: center;background-color: white;padding-right: 0.2em;padding-left: 0.2em;position: relative;}#sk-container-id-5 div.sk-item {position: relative;z-index: 1;}#sk-container-id-5 div.sk-parallel {display: flex;align-items: stretch;justify-content: center;background-color: white;position: relative;}#sk-container-id-5 div.sk-item::before, #sk-container-id-5 div.sk-parallel-item::before {content: \"\";position: absolute;border-left: 1px solid gray;box-sizing: border-box;top: 0;bottom: 0;left: 50%;z-index: -1;}#sk-container-id-5 div.sk-parallel-item {display: flex;flex-direction: column;z-index: 1;position: relative;background-color: white;}#sk-container-id-5 div.sk-parallel-item:first-child::after {align-self: flex-end;width: 50%;}#sk-container-id-5 div.sk-parallel-item:last-child::after {align-self: flex-start;width: 50%;}#sk-container-id-5 div.sk-parallel-item:only-child::after {width: 0;}#sk-container-id-5 div.sk-dashed-wrapped {border: 1px dashed gray;margin: 0 0.4em 0.5em 0.4em;box-sizing: border-box;padding-bottom: 0.4em;background-color: white;}#sk-container-id-5 div.sk-label label {font-family: monospace;font-weight: bold;display: inline-block;line-height: 1.2em;}#sk-container-id-5 div.sk-label-container {text-align: center;}#sk-container-id-5 div.sk-container {/* jupyter's `normalize.less` sets `[hidden] { display: none; }` but bootstrap.min.css set `[hidden] { display: none !important; }` so we also need the `!important` here to be able to override the default hidden behavior on the sphinx rendered scikit-learn.org. See: https://github.com/scikit-learn/scikit-learn/issues/21755 */display: inline-block !important;position: relative;}#sk-container-id-5 div.sk-text-repr-fallback {display: none;}</style><div id=\"sk-container-id-5\" class=\"sk-top-container\"><div class=\"sk-text-repr-fallback\"><pre>GridSearchCV(cv=3, estimator=RandomForestClassifier(), n_jobs=4,\n",
       "             param_grid={&#x27;bootstrap&#x27;: [True, False], &#x27;max_depth&#x27;: [2, 4],\n",
       "                         &#x27;max_features&#x27;: [&#x27;auto&#x27;, &#x27;sqrt&#x27;],\n",
       "                         &#x27;min_samples_leaf&#x27;: [1, 2],\n",
       "                         &#x27;min_samples_split&#x27;: [2, 5],\n",
       "                         &#x27;n_estimators&#x27;: [10, 17, 25, 33, 41, 48, 56, 64, 72,\n",
       "                                          80]},\n",
       "             verbose=2)</pre><b>In a Jupyter environment, please rerun this cell to show the HTML representation or trust the notebook. <br />On GitHub, the HTML representation is unable to render, please try loading this page with nbviewer.org.</b></div><div class=\"sk-container\" hidden><div class=\"sk-item sk-dashed-wrapped\"><div class=\"sk-label-container\"><div class=\"sk-label sk-toggleable\"><input class=\"sk-toggleable__control sk-hidden--visually\" id=\"sk-estimator-id-13\" type=\"checkbox\" ><label for=\"sk-estimator-id-13\" class=\"sk-toggleable__label sk-toggleable__label-arrow\">GridSearchCV</label><div class=\"sk-toggleable__content\"><pre>GridSearchCV(cv=3, estimator=RandomForestClassifier(), n_jobs=4,\n",
       "             param_grid={&#x27;bootstrap&#x27;: [True, False], &#x27;max_depth&#x27;: [2, 4],\n",
       "                         &#x27;max_features&#x27;: [&#x27;auto&#x27;, &#x27;sqrt&#x27;],\n",
       "                         &#x27;min_samples_leaf&#x27;: [1, 2],\n",
       "                         &#x27;min_samples_split&#x27;: [2, 5],\n",
       "                         &#x27;n_estimators&#x27;: [10, 17, 25, 33, 41, 48, 56, 64, 72,\n",
       "                                          80]},\n",
       "             verbose=2)</pre></div></div></div><div class=\"sk-parallel\"><div class=\"sk-parallel-item\"><div class=\"sk-item\"><div class=\"sk-label-container\"><div class=\"sk-label sk-toggleable\"><input class=\"sk-toggleable__control sk-hidden--visually\" id=\"sk-estimator-id-14\" type=\"checkbox\" ><label for=\"sk-estimator-id-14\" class=\"sk-toggleable__label sk-toggleable__label-arrow\">estimator: RandomForestClassifier</label><div class=\"sk-toggleable__content\"><pre>RandomForestClassifier()</pre></div></div></div><div class=\"sk-serial\"><div class=\"sk-item\"><div class=\"sk-estimator sk-toggleable\"><input class=\"sk-toggleable__control sk-hidden--visually\" id=\"sk-estimator-id-15\" type=\"checkbox\" ><label for=\"sk-estimator-id-15\" class=\"sk-toggleable__label sk-toggleable__label-arrow\">RandomForestClassifier</label><div class=\"sk-toggleable__content\"><pre>RandomForestClassifier()</pre></div></div></div></div></div></div></div></div></div></div>"
      ],
      "text/plain": [
       "GridSearchCV(cv=3, estimator=RandomForestClassifier(), n_jobs=4,\n",
       "             param_grid={'bootstrap': [True, False], 'max_depth': [2, 4],\n",
       "                         'max_features': ['auto', 'sqrt'],\n",
       "                         'min_samples_leaf': [1, 2],\n",
       "                         'min_samples_split': [2, 5],\n",
       "                         'n_estimators': [10, 17, 25, 33, 41, 48, 56, 64, 72,\n",
       "                                          80]},\n",
       "             verbose=2)"
      ]
     },
     "execution_count": 164,
     "metadata": {},
     "output_type": "execute_result"
    }
   ],
   "source": [
    "rf_Grid.fit(X_train, y_train)"
   ]
  },
  {
   "cell_type": "code",
   "execution_count": 165,
   "id": "fe50dae9",
   "metadata": {},
   "outputs": [
    {
     "name": "stdout",
     "output_type": "stream",
     "text": [
      "accuracy of test data: 76.86 %\n",
      "accuracy of train data: 78.53 %\n"
     ]
    }
   ],
   "source": [
    "#accuracy of test data\n",
    "rf_Grid_pred1 = rf_Grid.predict(X_test)\n",
    "rf_Grid_accuracy1 = round(metrics.accuracy_score(y_test,rf_Grid_pred1) * 100, 2)\n",
    "\n",
    "#accuracy of train data\n",
    "rf_Grid_pred2 = rf_Grid.predict(X_train)\n",
    "rf_Grid_accuracy2 = round(metrics.accuracy_score(y_train, rf_Grid_pred2) * 100, 2)\n",
    "\n",
    "print(\"accuracy of test data:\",rf_Grid_accuracy1,\"%\")\n",
    "print(\"accuracy of train data:\",rf_Grid_accuracy2,\"%\")"
   ]
  },
  {
   "cell_type": "markdown",
   "id": "8454b5de",
   "metadata": {},
   "source": [
    "**Summary**\n",
    "\n",
    "We can see that Random Forest hyperparameter tuning with GridSearchCV, seems to solve this problem, we can see that the model is moderately accurate due to the undersamping technique used, but to improve on the overall performance of the model, we can use a large dataset. i.e: to increase our sample size."
   ]
  },
  {
   "cell_type": "markdown",
   "id": "21803af9",
   "metadata": {},
   "source": [
    "## Predictions\n",
    "\n",
    "We will use the improved model for our predictions. We will then set our threshold probability value to 0.5, and segregate the customers into two. Those with probability of value greater than or equal to 0.5, will be predicted as likely to churn and vice versa."
   ]
  },
  {
   "cell_type": "code",
   "execution_count": 166,
   "id": "9636a4c8",
   "metadata": {},
   "outputs": [],
   "source": [
    "# Predict the probability of Churn of each customer\n",
    "churn_df['Probability_of_Churn'] = rf_Grid.predict_proba(churn_df[X_test.columns])[:,1]"
   ]
  },
  {
   "cell_type": "code",
   "execution_count": 167,
   "id": "b0658c86",
   "metadata": {},
   "outputs": [],
   "source": [
    "# Create a Dataframe showcasing probability of Churn of each customer\n",
    "a = churn_df[['CustomerId','Probability_of_Churn']]"
   ]
  },
  {
   "cell_type": "code",
   "execution_count": 168,
   "id": "b9db18c4",
   "metadata": {},
   "outputs": [
    {
     "name": "stderr",
     "output_type": "stream",
     "text": [
      "c:\\Users\\David Sanchez Jnr\\anaconda3\\lib\\site-packages\\pandas\\util\\_decorators.py:311: SettingWithCopyWarning:\n",
      "\n",
      "\n",
      "A value is trying to be set on a copy of a slice from a DataFrame\n",
      "\n",
      "See the caveats in the documentation: https://pandas.pydata.org/pandas-docs/stable/user_guide/indexing.html#returning-a-view-versus-a-copy\n",
      "\n"
     ]
    }
   ],
   "source": [
    "#  Customers which are more likely to churn\n",
    "likely_churn =  a[(a[\"Probability_of_Churn\"]>0.5) & (a[\"Probability_of_Churn\"]<0.99)]\n",
    "likely_churn.sort_values(by=['Probability_of_Churn'], inplace=True,ascending=False)\n",
    "likely_churn.to_csv(\"likely_churn.csv\")"
   ]
  },
  {
   "cell_type": "code",
   "execution_count": 169,
   "id": "691ef378",
   "metadata": {},
   "outputs": [],
   "source": [
    "# Customers less likely to churn\n",
    "less_churn =  a[(a[\"Probability_of_Churn\"]<=0.5) & (a[\"Probability_of_Churn\"]>0)]\n",
    "less_churn.sort_values(by=['Probability_of_Churn'], inplace=True,ascending=True)\n",
    "less_churn.to_csv(\"less_churn.csv\")"
   ]
  }
 ],
 "metadata": {
  "kernelspec": {
   "display_name": "Python 3 (ipykernel)",
   "language": "python",
   "name": "python3"
  },
  "language_info": {
   "codemirror_mode": {
    "name": "ipython",
    "version": 3
   },
   "file_extension": ".py",
   "mimetype": "text/x-python",
   "name": "python",
   "nbconvert_exporter": "python",
   "pygments_lexer": "ipython3",
   "version": "3.9.7"
  },
  "vscode": {
   "interpreter": {
    "hash": "75f061e5edfa4cac5c651e160ae9f04f133ab046c505a6e306a3dcd85ef98e18"
   }
  }
 },
 "nbformat": 4,
 "nbformat_minor": 5
}
